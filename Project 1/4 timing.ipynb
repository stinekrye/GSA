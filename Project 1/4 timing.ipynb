{
 "cells": [
  {
   "cell_type": "markdown",
   "source": [
    "## Timing our algorithms"
   ],
   "metadata": {}
  },
  {
   "cell_type": "code",
   "execution_count": 26,
   "source": [
    "from jannes_search_naive import naive_matching\r\n",
    "from read_fasta import read_fasta_file\r\n",
    "from read_fastq import read_fastq_file\r\n",
    "import time, random\r\n",
    "import pandas as pd"
   ],
   "outputs": [],
   "metadata": {}
  },
  {
   "cell_type": "code",
   "execution_count": 92,
   "source": [
    "def dna(length=int(), letters=\"CGTA\"):\r\n",
    "    return''.join(random.choices(letters, k=length))\r\n",
    "\r\n",
    "def create_fasta(start, stop, step):\r\n",
    "    name = f\"n_{stop}.fasta\"\r\n",
    "    f = open(name, \"w\")\r\n",
    "    counter = 1\r\n",
    "\r\n",
    "    for i in range(start, stop, step):\r\n",
    "        f.write('Seq' + str(counter) + '\\n' + dna(i) + '\\n')\r\n",
    "        counter += 1\r\n",
    "    f.close()\r\n",
    "\r\n",
    "    return name\r\n",
    "\r\n",
    "def create_fastq(m):\r\n",
    "    name = f\"m_{m}.fastq\"\r\n",
    "    f = open(name, \"w\")\r\n",
    "    f.write(\r\n",
    "        '@' + 'Seq' + str(1) + '\\n' + \r\n",
    "        dna(m) + '\\n' + \r\n",
    "        '+' + '\\n' + \r\n",
    "        '~' * m + '\\n')\r\n",
    "    f.close()\r\n",
    "    \r\n",
    "    return name"
   ],
   "outputs": [],
   "metadata": {}
  },
  {
   "cell_type": "code",
   "execution_count": 63,
   "source": [
    "create_fasta(10, 100, 10)"
   ],
   "outputs": [
    {
     "output_type": "stream",
     "name": "stdout",
     "text": [
      "10\n",
      "20\n",
      "30\n",
      "40\n",
      "50\n",
      "60\n",
      "70\n",
      "80\n",
      "90\n"
     ]
    },
    {
     "output_type": "execute_result",
     "data": {
      "text/plain": [
       "'n_100.fasta'"
      ]
     },
     "metadata": {},
     "execution_count": 63
    }
   ],
   "metadata": {}
  },
  {
   "cell_type": "code",
   "execution_count": 95,
   "source": [
    "def time_algo(n, m):\r\n",
    "    # df = pd.DataFrame(n, columns=['n'])\r\n",
    "    fastq = create_fastq(m)\r\n",
    "    fasta = create_fasta(20, n, 10)\r\n",
    "\r\n",
    "    fastq_dict = read_fastq_file(fastq)\r\n",
    "    fasta_dict = read_fasta_file(fasta)\r\n",
    "    print(fastq_dict)\r\n",
    "    print(fasta_dict)\r\n",
    "    times = []\r\n",
    "\r\n",
    "\r\n",
    "    for item in fastq_dict.items():\r\n",
    "        for seq in fasta_dict.items():\r\n",
    "            start = time.time()\r\n",
    "            naive_matching(seq, item)\r\n",
    "            end = time.time()\r\n",
    "            print(end - start)\r\n",
    "\r\n",
    "    return times\r\n"
   ],
   "outputs": [],
   "metadata": {}
  },
  {
   "cell_type": "code",
   "execution_count": 96,
   "source": [
    "print(time_algo(1000, 10))"
   ],
   "outputs": [
    {
     "output_type": "stream",
     "name": "stdout",
     "text": [
      "{'Seq1': ['ACAATAAGGA', '~~~~~~~~~~']}\n",
      "{}\n",
      "[]\n"
     ]
    }
   ],
   "metadata": {}
  }
 ],
 "metadata": {
  "orig_nbformat": 4,
  "language_info": {
   "name": "python",
   "version": "3.9.6",
   "mimetype": "text/x-python",
   "codemirror_mode": {
    "name": "ipython",
    "version": 3
   },
   "pygments_lexer": "ipython3",
   "nbconvert_exporter": "python",
   "file_extension": ".py"
  },
  "kernelspec": {
   "name": "python3",
   "display_name": "Python 3.9.6 64-bit ('stringalgo': conda)"
  },
  "interpreter": {
   "hash": "6a08fea81b3471c544c48b801e9549cc5d9f1da29e44bed0b5d757934491b2e8"
  }
 },
 "nbformat": 4,
 "nbformat_minor": 2
}