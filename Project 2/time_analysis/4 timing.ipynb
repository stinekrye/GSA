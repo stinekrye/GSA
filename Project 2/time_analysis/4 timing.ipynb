{
 "cells": [
  {
   "cell_type": "markdown",
   "metadata": {},
   "source": [
    "## Timing our algorithms"
   ]
  },
  {
   "cell_type": "code",
   "execution_count": 1,
   "metadata": {},
   "outputs": [],
   "source": [
    "import time, random\n",
    "import pandas as pd\n",
    "import seaborn as sns\n",
    "import matplotlib as plt\n",
    "import sys"
   ]
  },
  {
   "cell_type": "code",
   "execution_count": 2,
   "metadata": {},
   "outputs": [],
   "source": [
    "from parsers.read_fasta import read_fasta_file\n",
    "from parsers.read_fastq import read_fastq_file\n",
    "from search_st import search_suffix"
   ]
  },
  {
   "cell_type": "code",
   "execution_count": 3,
   "metadata": {},
   "outputs": [],
   "source": [
    "def dna(length=int(), letters=\"CGTA\"):\n",
    "    return''.join(random.choices(letters, k=length))\n",
    "\n",
    "def create_fasta(start, stop, step):\n",
    "    name = f\"test_files/n_{stop}.fasta\"\n",
    "    f = open(name, \"w\")\n",
    "    counter = 1\n",
    "\n",
    "    for i in range(start, stop, step):\n",
    "        f.write('>Seq' + str(counter) + '\\n' + dna(i) + '\\n')\n",
    "        counter += 1\n",
    "    f.close()\n",
    "\n",
    "    return name\n",
    "\n",
    "def create_fastq(m):\n",
    "    name = f\"test_files/m_{m}.fastq\"\n",
    "    f = open(name, \"w\")\n",
    "    f.write(\n",
    "        '@' + 'Seq' + str(1) + '\\n' + \n",
    "        dna(m) + '\\n' + \n",
    "        '+' + '\\n' + \n",
    "        '~' * m + '\\n')\n",
    "    f.close()\n",
    "    \n",
    "    return name"
   ]
  },
  {
   "cell_type": "code",
   "execution_count": 36,
   "metadata": {},
   "outputs": [],
   "source": [
    "def time_st(n, m):\n",
    "    df = pd.DataFrame(range(20, n, int(n/10)), columns=['n'])\n",
    "    fastq = create_fastq(m)\n",
    "    fasta = create_fasta(20, n, int(n/10))\n",
    "\n",
    "    fastq_dict = read_fastq_file(fastq)\n",
    "    fasta_dict = read_fasta_file(fasta)\n",
    "    times = []\n",
    "\n",
    "\n",
    "    for item in fastq_dict.items():\n",
    "        for seq in fasta_dict.items():\n",
    "            start = time.time()\n",
    "            search_suffix(seq, item)\n",
    "            end = time.time()\n",
    "            difference = end - start\n",
    "            times.append(difference)\n",
    "    \n",
    "    df['Time'] = times\n",
    "\n",
    "    df['Time/Expected time'] = df['Time']/df['n']\n",
    "    return df\n"
   ]
  },
  {
   "cell_type": "code",
   "execution_count": 38,
   "metadata": {},
   "outputs": [
    {
     "name": "stdout",
     "output_type": "stream",
     "text": [
      "Seq1\t0\tSeq4\t9178\t0\t10M\t*\t0\t0\tGTATCCAGCA\t~~~~~~~~~~\n"
     ]
    }
   ],
   "source": [
    "n = 100000\n",
    "df_10 = time_st(n, 10)\n",
    "df_10000 = time_st(n, 1000)\n",
    "df_50000 = time_st(n, 5000)\n",
    "df_100000 = time_st(n, 10000)\n",
    "df_500000 = time_st(n, 50000)\n",
    "df_900000 = time_st(n, 90000)"
   ]
  },
  {
   "cell_type": "code",
   "execution_count": 41,
   "metadata": {},
   "outputs": [],
   "source": [
    "concat = pd.concat([\n",
    "    # df_10.assign(dataset='m = 10'),\n",
    "    df_10000.assign(dataset='m = 1000'), \n",
    "    df_50000.assign(dataset='m = 5000'), \n",
    "    df_100000.assign(dataset='m = 10000'), \n",
    "    df_500000.assign(dataset='m = 50000'), \n",
    "    df_900000.assign(dataset='m = 90000')\n",
    "    ], ignore_index = True)"
   ]
  },
  {
   "cell_type": "code",
   "execution_count": 42,
   "metadata": {},
   "outputs": [
    {
     "data": {
      "image/png": "[encoded data removed]",
      "text/plain": [
       "<Figure size 432x288 with 1 Axes>"
      ]
     },
     "metadata": {
      "needs_background": "light"
     },
     "output_type": "display_data"
    }
   ],
   "source": [
    "h = sns.lineplot(x = 'n', y = 'Time/Expected time', \n",
    "                    hue = 'dataset', marker = '.',\n",
    "                    data = concat)\n",
    "h.set_title('Pattern matching using suffix trees')\n",
    "h.legend(bbox_to_anchor=(1.05, 1), loc=2, borderaxespad=0.)\n",
    "h.figure.savefig('../figures/search_st.pdf')"
   ]
  }
 ],
 "metadata": {
  "interpreter": {
   "hash": "6a08fea81b3471c544c48b801e9549cc5d9f1da29e44bed0b5d757934491b2e8"
  },
  "kernelspec": {
   "display_name": "Python 3.9.6 64-bit ('stringalgo': conda)",
   "name": "python3"
  },
  "language_info": {
   "codemirror_mode": {
    "name": "ipython",
    "version": 3
   },
   "file_extension": ".py",
   "mimetype": "text/x-python",
   "name": "python",
   "nbconvert_exporter": "python",
   "pygments_lexer": "ipython3",
   "version": "3.9.6"
  },
  "orig_nbformat": 4
 },
 "nbformat": 4,
 "nbformat_minor": 2
}
