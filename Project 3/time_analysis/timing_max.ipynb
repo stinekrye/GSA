{
 "cells": [
  {
   "cell_type": "markdown",
   "metadata": {},
   "source": [
    "## Timing our algorithms"
   ]
  },
  {
   "cell_type": "code",
   "execution_count": 51,
   "metadata": {},
   "outputs": [],
   "source": [
    "import time, random\n",
    "import pandas as pd\n",
    "import seaborn as sns\n",
    "import matplotlib as plt\n",
    "import sys"
   ]
  },
  {
   "cell_type": "code",
   "execution_count": 52,
   "metadata": {},
   "outputs": [],
   "source": [
    "import parsers, timing_search, gen_lcp"
   ]
  },
  {
   "cell_type": "code",
   "execution_count": 53,
   "metadata": {},
   "outputs": [],
   "source": [
    "def dna(length=int(), letters=\"CGTA\"):\n",
    "    return''.join(random.choices(letters, k=length))\n",
    "\n",
    "def create_one_fasta(n):\n",
    "    name = f\"test_files/n_{n}.fasta\"\n",
    "    f = open(name, \"w\")\n",
    "    \n",
    "    f.write('>Seq' + str(1) + '\\n' + dna(n) + '\\n')\n",
    "    \n",
    "    f.close()\n",
    "\n",
    "    return name\n",
    "\n",
    "def create_many_fasta(start, stop, step):\n",
    "    name = f\"test_files/n_{stop}.fasta\"\n",
    "    f = open(name, \"w\")\n",
    "    counter = 1\n",
    "\n",
    "    for i in range(start, stop, step):\n",
    "        f.write('>Seq' + str(counter) + '\\n' + dna(i) + '\\n')\n",
    "        counter += 1\n",
    "    f.close()\n",
    "\n",
    "    return name\n",
    "\n",
    "def create_one_fastq(m):\n",
    "    name = f\"test_files/m_{m}.fastq\"\n",
    "    f = open(name, \"w\")\n",
    "    f.write(\n",
    "        '@' + 'Seq' + str(1) + '\\n' + \n",
    "        dna(m) + '\\n' + \n",
    "        '+' + '\\n' + \n",
    "        '~' * m + '\\n')\n",
    "    f.close()\n",
    "    \n",
    "    return name\n",
    "\n",
    "def create_many_fastq(start, stop, step):\n",
    "    name = f\"test_files/m_{stop}.fastq\"\n",
    "    f = open(name, \"w\")\n",
    "\n",
    "    counter = 1\n",
    "\n",
    "    for i in range(start, stop, step):\n",
    "        f.write(\n",
    "            '@' + 'Seq' + str(counter) + '\\n' + \n",
    "            dna(i) + '\\n' + \n",
    "            '+' + '\\n' + \n",
    "            '~' * i + '\\n'\n",
    "        )\n",
    "        counter += 1\n",
    "    \n",
    "    f.close()\n",
    "    \n",
    "    return name\n"
   ]
  },
  {
   "cell_type": "code",
   "execution_count": 4,
   "metadata": {},
   "outputs": [],
   "source": [
    "def time_construction(n): # THAT'S FOR gen_lcp, WE ARE NOT INTERESTED IN THAT\n",
    "    df = pd.DataFrame(range(20, n, int(n/10)), columns=['n'])\n",
    "    fasta_file = create_many_fasta(20, n, int(n/10))\n",
    "\n",
    "    fasta = parsers.read_fasta_file(fasta_file)\n",
    "    times = []\n",
    "\n",
    "    if len(fasta) < 0:\n",
    "        return \"Problems with fasta file\"\n",
    "\n",
    "    for x in fasta.items():\n",
    "        tree = None\n",
    "        start = time.time()\n",
    "\n",
    "        tree = gen_lcp.SuffixTree()\n",
    "        tree.root.children = [None, None, None, None, None]\n",
    "        seq = x[1]\n",
    "        tree.insert(seq)\n",
    "        SA, LCP = gen_lcp.SA_LCP(tree.root, SA=[], LCP=[])\n",
    "        \n",
    "        end = time.time()\n",
    "        difference = end - start\n",
    "        times.append(difference)\n",
    "\n",
    "    \n",
    "    df['Time'] = times\n",
    "\n",
    "    df['Time/Expected time'] = df['Time']/df['n']\n",
    "    return df"
   ]
  },
  {
   "cell_type": "code",
   "execution_count": 133,
   "metadata": {},
   "outputs": [],
   "source": [
    "n = 100000\n",
    "m = 1000"
   ]
  },
  {
   "cell_type": "code",
   "execution_count": 134,
   "metadata": {},
   "outputs": [],
   "source": [
    "df_construction = time_construction(n)"
   ]
  },
  {
   "cell_type": "code",
   "execution_count": 135,
   "metadata": {},
   "outputs": [
    {
     "data": {
      "text/plain": [
       "Text(0.5, 1.0, 'Suffix tree construction')"
      ]
     },
     "execution_count": 135,
     "metadata": {},
     "output_type": "execute_result"
    },
    {
     "data": {
      "image/png": "[encoded data removed]",
      "text/plain": [
       "<Figure size 432x288 with 1 Axes>"
      ]
     },
     "metadata": {
      "needs_background": "light"
     },
     "output_type": "display_data"
    }
   ],
   "source": [
    "h = sns.lineplot(x = 'n', y = 'Time/Expected time', marker = '.',\n",
    "                    data = df_construction)\n",
    "h.set_title('Suffix tree construction')\n",
    "#h.figure.savefig('../figures/search_st.pdf')"
   ]
  },
  {
   "cell_type": "code",
   "execution_count": 16,
   "metadata": {},
   "outputs": [],
   "source": [
    "def time_construction(n, m): # Suffix tree construction using search_st2.py.\n",
    "    df = pd.DataFrame(range(20, n, int(n/10)), columns=['n'])\n",
    "    fastq_file = create_one_fastq(m)\n",
    "\n",
    "    fastq = parsers.read_fastq_file(fastq_file) # fastq file with seq of len m\n",
    "    sa_lcp = parsers.read_SA_LCP(\"SA_LCP.txt\")  # txt file with SA and LCP of sequences created by \n",
    "                                                # create_many_fasta(20, n, int(n/10)) where n = 100000 and then ran with\n",
    "                                                # search_st.py -p separately to create SA_LCP.txt file\n",
    "    times = []\n",
    "\n",
    "    if len(sa_lcp) < 0 or len(fastq) < 0:\n",
    "        return \"Problems with either sa_lcp or fastq file\"\n",
    "\n",
    "    flag, mapq, pnext, tlen = 0,0,0,0\n",
    "    rnext = \"*\"\n",
    "\n",
    "\n",
    "    for x in sa_lcp.items():\n",
    "        rname = x[0]\n",
    "        tree = None\n",
    "        start = time.time()\n",
    "        \n",
    "        tree = timing_search.SuffixTree2()\n",
    "        tree.root.children = []\n",
    "        y = x[1][0] + \"0\"\n",
    "        tree.seq, tree.alpha = timing_search.remap(y)\n",
    "        sa = x[1][1]\n",
    "        lcp = x[1][2]\n",
    "        tree.lcp_suffix_tree(sa, lcp)\n",
    "        \n",
    "        end = time.time()\n",
    "        difference = end - start\n",
    "        times.append(difference)\n",
    "\n",
    "\n",
    "        for p in fastq.items():\n",
    "            qname = p[0]\n",
    "            substring = p[1][0]\n",
    "            cigar = str(len(substring)) + \"M\"\n",
    "            qual = p[1][1]\n",
    "\n",
    "            seq = [tree.alpha[a] for a in substring]\n",
    "\n",
    "            matches = tree.search_rec(tree.root, 0, 0, seq)\n",
    "\n",
    "            if matches is not None:\n",
    "                for match in matches:\n",
    "                    pos = int(match) + 1\n",
    "                    print(f\"{qname}\\t{flag}\\t{rname}\\t{pos}\\t{mapq}\\t{cigar}\\t{rnext}\\t{pnext}\\t{tlen}\\t{substring}\\t{qual}\", file = sys.stdout)\n",
    "    \n",
    "    df['Time'] = times\n",
    "\n",
    "    df['Time/Expected time'] = df['Time']/df['n']\n",
    "    return df"
   ]
  },
  {
   "cell_type": "code",
   "execution_count": 45,
   "metadata": {},
   "outputs": [
    {
     "name": "stdout",
     "output_type": "stream",
     "text": [
      "       n      Time  Time/Expected time\n",
      "0     20  0.000083            0.000004\n",
      "1  10020  0.039995            0.000004\n",
      "2  20020  0.316066            0.000016\n",
      "3  30020  0.190744            0.000006\n",
      "4  40020  0.291525            0.000007\n",
      "5  50020  0.421927            0.000008\n",
      "6  60020  0.493989            0.000008\n",
      "7  70020  0.634248            0.000009\n",
      "8  80020  0.641045            0.000008\n",
      "9  90020  0.791751            0.000009\n"
     ]
    }
   ],
   "source": [
    "n = 100000\n",
    "m = 1000\n",
    "df_construction = time_construction(n, m)\n",
    "print(df_construction)"
   ]
  },
  {
   "cell_type": "code",
   "execution_count": 46,
   "metadata": {},
   "outputs": [
    {
     "data": {
      "text/plain": [
       "Text(0.5, 1.0, 'Suffix tree construction')"
      ]
     },
     "execution_count": 46,
     "metadata": {},
     "output_type": "execute_result"
    },
    {
     "data": {
      "image/png": "[encoded data removed]",
      "text/plain": [
       "<Figure size 432x288 with 1 Axes>"
      ]
     },
     "metadata": {
      "needs_background": "light"
     },
     "output_type": "display_data"
    }
   ],
   "source": [
    "h = sns.lineplot(x = 'n', y = 'Time/Expected time', marker = '.',\n",
    "                    data = df_construction)\n",
    "h.set_title('Suffix tree construction')\n",
    "#h.figure.savefig('figures/construction_search_st2.pdf')"
   ]
  },
  {
   "cell_type": "code",
   "execution_count": 21,
   "metadata": {},
   "outputs": [],
   "source": [
    "fasta_file_1seq = create_one_fasta(100000)"
   ]
  },
  {
   "cell_type": "code",
   "execution_count": 54,
   "metadata": {},
   "outputs": [],
   "source": [
    "def time_search(n, m): #Search using search_st2.py\n",
    "    df = pd.DataFrame(range(20, m, int(m/10)), columns=['m'])\n",
    "    fastq_file = create_many_fastq(20, m, int(m/10))\n",
    "\n",
    "    fastq = parsers.read_fastq_file(fastq_file) # fastq file with multiple sequences of length 20 to m in steps of m/10\n",
    "    sa_lcp = parsers.read_SA_LCP(\"SA_LCP_1.txt\")# txt file with SA and LCP of a sequence created by \n",
    "                                                # create_one_fasta(n) where n = 100000 and then ran with\n",
    "                                                # search_st.py -p separately to create SA_LCP.txt file\n",
    "\n",
    "    times = []\n",
    "\n",
    "    if len(sa_lcp) < 0 or len(fastq) < 0:\n",
    "        return \"Problems with either sa_lcp or fastq file\"\n",
    "\n",
    "    flag, mapq, pnext, tlen = 0,0,0,0\n",
    "    rnext = \"*\"\n",
    "\n",
    "    for x in sa_lcp.items():\n",
    "        rname = x[0]\n",
    "        tree = None\n",
    "        tree = timing_search.SuffixTree2()\n",
    "        tree.root.children = []\n",
    "        y = x[1][0] + \"0\"\n",
    "        tree.seq, tree.alpha = timing_search.remap(y)\n",
    "        sa = x[1][1]\n",
    "        lcp = x[1][2]\n",
    "        tree.lcp_suffix_tree(sa, lcp)\n",
    "\n",
    "\n",
    "        for p in fastq.items():\n",
    "            start = time.time()\n",
    "            qname = p[0]\n",
    "            substring = p[1][0]\n",
    "            cigar = str(len(substring)) + \"M\"\n",
    "            qual = p[1][1]\n",
    "\n",
    "            seq = [tree.alpha[a] for a in substring]\n",
    "\n",
    "            matches = tree.search_rec(tree.root, 0, 0, seq)\n",
    "\n",
    "            if matches is not None:\n",
    "                for match in matches:\n",
    "                    pos = int(match) + 1\n",
    "                    print(f\"{qname}\\t{flag}\\t{rname}\\t{pos}\\t{mapq}\\t{cigar}\\t{rnext}\\t{pnext}\\t{tlen}\\t{substring}\\t{qual}\", file = sys.stdout)\n",
    "            \n",
    "            end = time.time()\n",
    "            difference = end - start\n",
    "            times.append(difference)\n",
    "\n",
    "    df['Time'] = times\n",
    "\n",
    "    df['Time/Expected time'] = df['Time']/df['m']\n",
    "\n",
    "    return df"
   ]
  },
  {
   "cell_type": "code",
   "execution_count": 55,
   "metadata": {},
   "outputs": [
    {
     "name": "stdout",
     "output_type": "stream",
     "text": [
      "     m      Time  Time/Expected time\n",
      "0   20  0.000032        1.609325e-06\n",
      "1  120  0.000026        2.165635e-07\n",
      "2  220  0.000035        1.593070e-07\n",
      "3  320  0.000035        1.087785e-07\n",
      "4  420  0.000044        1.050177e-07\n",
      "5  520  0.000047        9.078246e-08\n",
      "6  620  0.000052        8.383105e-08\n",
      "7  720  0.000056        7.748604e-08\n",
      "8  820  0.000065        7.908519e-08\n",
      "9  920  0.000071        7.696774e-08\n"
     ]
    }
   ],
   "source": [
    "n = 100000\n",
    "m = 1000\n",
    "df_search = time_search(n, m)\n",
    "print(df_search)"
   ]
  },
  {
   "cell_type": "code",
   "execution_count": 58,
   "metadata": {},
   "outputs": [
    {
     "data": {
      "image/png": "[encoded data removed]",
      "text/plain": [
       "<Figure size 432x288 with 1 Axes>"
      ]
     },
     "metadata": {
      "needs_background": "light"
     },
     "output_type": "display_data"
    }
   ],
   "source": [
    "h = sns.lineplot(x = 'm', y = 'Time/Expected time', marker = '.',\n",
    "                    data = df_search)\n",
    "h.set_title('Pattern matching')\n",
    "h.figure.savefig('figures/search_st2.pdf')"
   ]
  }
 ],
 "metadata": {
  "interpreter": {
   "hash": "6a08fea81b3471c544c48b801e9549cc5d9f1da29e44bed0b5d757934491b2e8"
  },
  "kernelspec": {
   "display_name": "Python 3 (ipykernel)",
   "language": "python",
   "name": "python3"
  },
  "language_info": {
   "codemirror_mode": {
    "name": "ipython",
    "version": 3
   },
   "file_extension": ".py",
   "mimetype": "text/x-python",
   "name": "python",
   "nbconvert_exporter": "python",
   "pygments_lexer": "ipython3",
   "version": "3.8.11"
  }
 },
 "nbformat": 4,
 "nbformat_minor": 4
}
