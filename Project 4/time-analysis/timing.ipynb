{
 "cells": [
  {
   "cell_type": "markdown",
   "metadata": {},
   "source": [
    "## Timing our algorithms"
   ]
  },
  {
   "cell_type": "code",
   "execution_count": 2,
   "metadata": {},
   "outputs": [],
   "source": [
    "import time, random\n",
    "import pandas as pd\n",
    "import seaborn as sns\n",
    "import numpy as np\n",
    "import matplotlib as plt\n",
    "import sys"
   ]
  },
  {
   "cell_type": "code",
   "execution_count": 3,
   "metadata": {},
   "outputs": [],
   "source": [
    "import parsers, jannesnotes, stinesnotes"
   ]
  },
  {
   "cell_type": "code",
   "execution_count": 4,
   "metadata": {},
   "outputs": [],
   "source": [
    "def dna(length=int(), letters=\"CGTA\"):\n",
    "    return''.join(random.choices(letters, k=length))\n",
    "\n",
    "def create_one_fasta(n):\n",
    "    name = f\"test_files/n_{n}.fa\"\n",
    "    f = open(name, \"w\")\n",
    "    \n",
    "    f.write('>Seq' + str(1) + '\\n' + dna(n) + '\\n')\n",
    "    \n",
    "    f.close()\n",
    "\n",
    "    return name\n",
    "\n",
    "def create_many_fasta(start, stop, step):\n",
    "    name = f\"test_files/n_{stop}.fa\"\n",
    "    f = open(name, \"w\")\n",
    "    counter = 1\n",
    "\n",
    "    for i in range(start, stop, step):\n",
    "        f.write('>Seq' + str(counter) + '\\n' + dna(i) + '\\n')\n",
    "        counter += 1\n",
    "    f.close()\n",
    "\n",
    "    return name\n",
    "\n",
    "def create_one_fastq(m):\n",
    "    name = f\"test_files/m_{m}.fq\"\n",
    "    f = open(name, \"w\")\n",
    "    f.write(\n",
    "        '@' + 'Seq' + str(1) + '\\n' + \n",
    "        dna(m) + '\\n' + \n",
    "        '+' + '\\n' + \n",
    "        '~' * m + '\\n')\n",
    "    f.close()\n",
    "    \n",
    "    return name\n",
    "\n",
    "def create_many_fastq(start, stop, step):\n",
    "    name = f\"test_files/m_{stop}.fq\"\n",
    "    f = open(name, \"w\")\n",
    "\n",
    "    counter = 1\n",
    "\n",
    "    for i in range(start, stop, step):\n",
    "        f.write(\n",
    "            '@' + 'Seq' + str(counter) + '\\n' + \n",
    "            dna(i) + '\\n' + \n",
    "            '+' + '\\n' + \n",
    "            '~' * i + '\\n'\n",
    "        )\n",
    "        counter += 1\n",
    "    \n",
    "    f.close()\n",
    "    \n",
    "    return name\n"
   ]
  },
  {
   "cell_type": "code",
   "execution_count": 2,
   "metadata": {},
   "outputs": [],
   "source": [
    "def time_bwsearch(sa, m, o_dict, c_dict):\n",
    "    df = pd.DataFrame(range(20, m, int(m/10)), columns=['m'])\n",
    "    fastq_file = create_many_fastq(20, m, int(m/10))\n",
    "\n",
    "    fastq = parsers.read_fastq_file(fastq_file)\n",
    "    sa = parsers.read_SA(sa)\n",
    "    times = []\n",
    "\n",
    "    flag, mapq, pnext, tlen = 0,0,0,0\n",
    "    rnext = \"*\"\n",
    "\n",
    "    for x in sa.items():\n",
    "        rname = x[0]\n",
    "        y = x[1][0] + \"$\"\n",
    "        sa = x[1][1]\n",
    "\n",
    "        for p in fastq.items():\n",
    "            qname = p[0]\n",
    "            substring = p[1][0]\n",
    "            cigar = str(len(substring)) + \"M\"\n",
    "            qual = p[1][1]\n",
    "\n",
    "            alpha = {a:i for i, a in enumerate(sorted(set(y)))}\n",
    "            O = o_dict[rname]\n",
    "            C = c_dict[rname]\n",
    "\n",
    "            start = time.time()\n",
    "            matches = jannesnotes.fm_search(O, C, substring, sa, alpha)\n",
    "            end = time.time()\n",
    "            difference = end - start\n",
    "            times.append(difference)\n",
    "\n",
    "            if matches is not None:\n",
    "                for match in matches:\n",
    "                    pos = int(match) + 1\n",
    "                    print(f\"{qname}\\t{flag}\\t{rname}\\t{pos}\\t{mapq}\\t{cigar}\\t{rnext}\\t{pnext}\\t{tlen}\\t{substring}\\t{qual}\", file = sys.stdout)\n",
    "    \n",
    "    df['Time'] = times\n",
    "\n",
    "    df['Time/Expected time'] = df['Time']/df['m']\n",
    "\n",
    "    return df"
   ]
  },
  {
   "cell_type": "code",
   "execution_count": 6,
   "metadata": {},
   "outputs": [],
   "source": [
    "n = 100000\n",
    "m = 10000"
   ]
  },
  {
   "cell_type": "code",
   "execution_count": 7,
   "metadata": {},
   "outputs": [],
   "source": [
    "o_dict = parsers.read_o(\"test_files/n_100000.fa.o-table\")\n",
    "c_dict = parsers.read_c(\"test_files/n_100000.fa.c-table\")\n",
    "df_search = time_bwsearch(\"test_files/n_100000.fa.sa\", m, o_dict, c_dict)"
   ]
  },
  {
   "cell_type": "code",
   "execution_count": 8,
   "metadata": {},
   "outputs": [],
   "source": [
    "h = sns.lineplot(x = 'm', y = 'Time/Expected time', marker = '.',\n",
    "                    data = df_search)\n",
    "h.set_title('Pattern matching using Burrows-Wheeler based search')\n",
    "h.figure.savefig('figures/search_bw1.pdf')"
   ]
  },
  {
   "cell_type": "code",
   "execution_count": null,
   "metadata": {
    "collapsed": false,
    "pycharm": {
     "name": "#%%\n"
    }
   },
   "outputs": [],
   "source": [
    "def time_bssearch(sa, m):\n",
    "    df = pd.DataFrame(range(20, m, int(m/10)), columns=['m'])\n",
    "    fastq_file = create_many_fastq(20, m, int(m/10))\n",
    "\n",
    "    fastq = parsers.read_fastq_file(fastq_file)\n",
    "    sa = parsers.read_SA_LCP(sa)\n",
    "    times = []\n",
    "\n",
    "    flag, mapq, pnext, tlen = 0,0,0,0\n",
    "    rnext = \"*\"\n",
    "\n",
    "    for x in sa.items():\n",
    "        rname = x[0]\n",
    "        y = x[1][0] + \"$\"\n",
    "        sa = x[1][1]\n",
    "\n",
    "        for p in fastq.items():\n",
    "            qname = p[0]\n",
    "            substring = p[1][0]\n",
    "            cigar = str(len(substring)) + \"M\"\n",
    "            qual = p[1][1]\n",
    "\n",
    "            start = time.time()\n",
    "            matches = stinesnotes.binary3(substring, y,  sa)\n",
    "            end = time.time()\n",
    "            difference = end - start\n",
    "            times.append(difference)\n",
    "            print(\"H\")\n",
    "\n",
    "            if matches is not None:\n",
    "                for match in matches:\n",
    "                    pos = int(match) + 1\n",
    "                    print(f\"{qname}\\t{flag}\\t{rname}\\t{pos}\\t{mapq}\\t{cigar}\\t{rnext}\\t{pnext}\\t{tlen}\\t{substring}\\t{qual}\")\n",
    "\n",
    "    df['Time'] = times\n",
    "\n",
    "    df['Time/Expected time'] = df['Time']/(df['m']*np.log10(n))\n",
    "\n",
    "    return df,matches\n"
   ]
  },
  {
   "cell_type": "code",
   "execution_count": null,
   "metadata": {
    "collapsed": false,
    "pycharm": {
     "name": "#%%\n"
    }
   },
   "outputs": [],
   "source": [
    "n = 100000\n",
    "m = 10000"
   ]
  },
  {
   "cell_type": "code",
   "execution_count": null,
   "metadata": {
    "collapsed": false,
    "pycharm": {
     "name": "#%%\n"
    }
   },
   "outputs": [
    {
     "name": "stdout",
     "output_type": "stream",
     "text": [
      "H\n",
      "H\n",
      "H\n",
      "H\n",
      "H\n",
      "H\n",
      "H\n",
      "H\n",
      "H\n",
      "H\n"
     ]
    }
   ],
   "source": [
    "df_search,matches = time_bssearch(\"test_files/n_100000.fa.sa-lcp\", m)"
   ]
  },
  {
   "cell_type": "code",
   "execution_count": null,
   "metadata": {
    "collapsed": false,
    "pycharm": {
     "name": "#%%\n"
    }
   },
   "outputs": [
    {
     "data": {
      "image/png": "[encoded data removed]",
      "text/plain": [
       "<Figure size 432x288 with 1 Axes>"
      ]
     },
     "metadata": {
      "needs_background": "light"
     },
     "output_type": "display_data"
    }
   ],
   "source": [
    "h = sns.lineplot(x = 'm', y = 'Time/Expected time', marker = '.',\n",
    "                    data = df_search)\n",
    "h.set_title('Pattern matching using Binary search')\n",
    "h.figure.savefig('figures/search_bs.pdf')"
   ]
  },
  {
   "cell_type": "code",
   "execution_count": null,
   "metadata": {
    "collapsed": false,
    "pycharm": {
     "name": "#%%\n"
    }
   },
   "outputs": [
    {
     "name": "stdout",
     "output_type": "stream",
     "text": [
      "      m      Time  Time/Expected time\n",
      "0    20  0.000000        0.000000e+00\n",
      "1  1020  0.000000        0.000000e+00\n",
      "2  2020  0.003128        3.096609e-07\n",
      "3  3020  0.000000        0.000000e+00\n",
      "4  4020  0.000000        0.000000e+00\n",
      "5  5020  0.000000        0.000000e+00\n",
      "6  6020  0.001001        3.324395e-08\n",
      "7  7020  0.000092        2.621925e-09\n",
      "8  8020  0.000000        0.000000e+00\n",
      "9  9020  0.000000        0.000000e+00\n",
      "None\n"
     ]
    }
   ],
   "source": [
    "print(df_search)\n",
    "print(matches)"
   ]
  }
 ],
 "metadata": {
  "interpreter": {
   "hash": "6a08fea81b3471c544c48b801e9549cc5d9f1da29e44bed0b5d757934491b2e8"
  },
  "kernelspec": {
   "display_name": "Python 3 (ipykernel)",
   "language": "python",
   "name": "python3"
  },
  "language_info": {
   "codemirror_mode": {
    "name": "ipython",
    "version": 3
   },
   "file_extension": ".py",
   "mimetype": "text/x-python",
   "name": "python",
   "nbconvert_exporter": "python",
   "pygments_lexer": "ipython3",
   "version": "3.9.6"
  },
  "orig_nbformat": 4
 },
 "nbformat": 4,
 "nbformat_minor": 2
}