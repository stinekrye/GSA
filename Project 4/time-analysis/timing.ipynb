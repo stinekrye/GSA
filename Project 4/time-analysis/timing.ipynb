{
 "cells": [
  {
   "cell_type": "markdown",
   "metadata": {},
   "source": [
    "## Timing our algorithms"
   ]
  },
  {
   "cell_type": "code",
   "execution_count": 1,
   "metadata": {},
   "outputs": [],
   "source": [
    "import time, random\n",
    "import pandas as pd\n",
    "import seaborn as sns\n",
    "import matplotlib as plt\n",
    "import sys"
   ]
  },
  {
   "cell_type": "code",
   "execution_count": 2,
   "metadata": {},
   "outputs": [],
   "source": [
    "import parsers, jannesnotes"
   ]
  },
  {
   "cell_type": "code",
   "execution_count": 3,
   "metadata": {},
   "outputs": [],
   "source": [
    "def dna(length=int(), letters=\"CGTA\"):\n",
    "    return''.join(random.choices(letters, k=length))\n",
    "\n",
    "def create_one_fasta(n):\n",
    "    name = f\"test_files/n_{n}.fa\"\n",
    "    f = open(name, \"w\")\n",
    "    \n",
    "    f.write('>Seq' + str(1) + '\\n' + dna(n) + '\\n')\n",
    "    \n",
    "    f.close()\n",
    "\n",
    "    return name\n",
    "\n",
    "def create_many_fasta(start, stop, step):\n",
    "    name = f\"test_files/n_{stop}.fa\"\n",
    "    f = open(name, \"w\")\n",
    "    counter = 1\n",
    "\n",
    "    for i in range(start, stop, step):\n",
    "        f.write('>Seq' + str(counter) + '\\n' + dna(i) + '\\n')\n",
    "        counter += 1\n",
    "    f.close()\n",
    "\n",
    "    return name\n",
    "\n",
    "def create_one_fastq(m):\n",
    "    name = f\"test_files/m_{m}.fq\"\n",
    "    f = open(name, \"w\")\n",
    "    f.write(\n",
    "        '@' + 'Seq' + str(1) + '\\n' + \n",
    "        dna(m) + '\\n' + \n",
    "        '+' + '\\n' + \n",
    "        '~' * m + '\\n')\n",
    "    f.close()\n",
    "    \n",
    "    return name\n",
    "\n",
    "def create_many_fastq(start, stop, step):\n",
    "    name = f\"test_files/m_{stop}.fq\"\n",
    "    f = open(name, \"w\")\n",
    "\n",
    "    counter = 1\n",
    "\n",
    "    for i in range(start, stop, step):\n",
    "        f.write(\n",
    "            '@' + 'Seq' + str(counter) + '\\n' + \n",
    "            dna(i) + '\\n' + \n",
    "            '+' + '\\n' + \n",
    "            '~' * i + '\\n'\n",
    "        )\n",
    "        counter += 1\n",
    "    \n",
    "    f.close()\n",
    "    \n",
    "    return name\n"
   ]
  },
  {
   "cell_type": "code",
   "execution_count": null,
   "metadata": {},
   "outputs": [],
   "source": [
    "def time_bwsearch(sa, m):\n",
    "    df = pd.DataFrame(range(20, m, int(m/10)), columns=['m'])\n",
    "    fastq_file = create_many_fastq(20, m, int(m/10))\n",
    "\n",
    "    fastq = parsers.read_fastq_file(fastq_file)\n",
    "    sa = parsers.read_SA_LCP(sa)\n",
    "    times = []\n",
    "\n",
    "    flag, mapq, pnext, tlen = 0,0,0,0\n",
    "    rnext = \"*\"\n",
    "\n",
    "    for x in sa.items():\n",
    "        rname = x[0]\n",
    "        y = x[1][0] + \"$\"\n",
    "        sa = x[1][1]\n",
    "\n",
    "        for p in fastq.items():\n",
    "            qname = p[0]\n",
    "            substring = p[1][0]\n",
    "            cigar = str(len(substring)) + \"M\"\n",
    "            qual = p[1][1]\n",
    "\n",
    "            start = time.time()\n",
    "            matches = jannesnotes.fm_search(y, substring, sa)\n",
    "            end = time.time()\n",
    "            difference = end - start\n",
    "            times.append(difference)\n",
    "\n",
    "            if matches is not None:\n",
    "                for match in matches:\n",
    "                    pos = int(match) + 1\n",
    "                    print(f\"{qname}\\t{flag}\\t{rname}\\t{pos}\\t{mapq}\\t{cigar}\\t{rnext}\\t{pnext}\\t{tlen}\\t{substring}\\t{qual}\", file = sys.stdout)\n",
    "\n",
    "    df['Time'] = times\n",
    "\n",
    "    df['Time/Expected time'] = df['Time']/df['m']\n",
    "\n",
    "    return df\n"
   ]
  },
  {
   "cell_type": "code",
   "execution_count": 5,
   "metadata": {},
   "outputs": [],
   "source": [
    "n = 100000\n",
    "m = 10000"
   ]
  },
  {
   "cell_type": "code",
   "execution_count": 6,
   "metadata": {},
   "outputs": [],
   "source": [
    "df_search = time_bwsearch(\"test_files/n_100000.fa.sa-lcp\", m)"
   ]
  },
  {
   "cell_type": "code",
   "execution_count": 7,
   "metadata": {},
   "outputs": [],
   "source": [
    "h = sns.lineplot(x = 'm', y = 'Time/Expected time', marker = '.',\n",
    "                    data = df_search)\n",
    "h.set_title('Pattern matching using Burrows-Wheeler based search')\n",
    "h.figure.savefig('figures/search_bw.pdf')"
   ]
  }
 ],
 "metadata": {
  "interpreter": {
   "hash": "6a08fea81b3471c544c48b801e9549cc5d9f1da29e44bed0b5d757934491b2e8"
  },
  "kernelspec": {
   "display_name": "Python 3.9.6 64-bit ('stringalgo': conda)",
   "name": "python3"
  },
  "language_info": {
   "codemirror_mode": {
    "name": "ipython",
    "version": 3
   },
   "file_extension": ".py",
   "mimetype": "text/x-python",
   "name": "python",
   "nbconvert_exporter": "python",
   "pygments_lexer": "ipython3",
   "version": "3.9.6"
  },
  "orig_nbformat": 4
 },
 "nbformat": 4,
 "nbformat_minor": 2
}
