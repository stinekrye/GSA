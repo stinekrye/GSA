{
 "cells": [
  {
   "cell_type": "markdown",
   "metadata": {},
   "source": [
    "## Timing our algorithms"
   ]
  },
  {
   "cell_type": "code",
   "execution_count": 1,
   "metadata": {},
   "outputs": [],
   "source": [
    "import time, random\n",
    "import pandas as pd\n",
    "import seaborn as sns\n",
    "import matplotlib as plt\n",
    "import sys"
   ]
  },
  {
   "cell_type": "code",
   "execution_count": 2,
   "metadata": {},
   "outputs": [],
   "source": [
    "import parsers, helperpackage, SAIS"
   ]
  },
  {
   "cell_type": "code",
   "execution_count": 3,
   "metadata": {},
   "outputs": [],
   "source": [
    "import search_bwd"
   ]
  },
  {
   "cell_type": "code",
   "execution_count": 4,
   "metadata": {},
   "outputs": [],
   "source": [
    "def dna(length=int(), letters=\"CGTA\"):\n",
    "    return''.join(random.choices(letters, k=length))\n",
    "\n",
    "def create_one_fasta(n):\n",
    "    name = f\"test_files/n_{n}.fasta\"\n",
    "    f = open(name, \"w\")\n",
    "\n",
    "    f.write('>Seq' + str(1) + '\\n' + dna(n) + '\\n')\n",
    "\n",
    "    f.close()\n",
    "\n",
    "    return name\n",
    "\n",
    "def create_many_fasta(start, stop, step):\n",
    "    name = f\"test_files/n_{stop}.fasta\"\n",
    "    f = open(name, \"w\")\n",
    "    counter = 1\n",
    "\n",
    "    for i in range(start, stop, step):\n",
    "        f.write('>Seq' + str(counter) + '\\n' + dna(i) + '\\n')\n",
    "        counter += 1\n",
    "    f.close()\n",
    "\n",
    "    return name\n",
    "\n",
    "def create_one_fastq(m):\n",
    "    name = f\"test_files/m_{m}.fastq\"\n",
    "    f = open(name, \"w\")\n",
    "    f.write(\n",
    "        '@' + 'Seq' + str(1) + '\\n' +\n",
    "        dna(m) + '\\n' +\n",
    "        '+' + '\\n' +\n",
    "        '~' * m + '\\n')\n",
    "    f.close()\n",
    "\n",
    "    return name\n",
    "\n",
    "def create_many_fastq(start, stop, step):\n",
    "    name = f\"test_files/m_{stop}.fastq\"\n",
    "    f = open(name, \"w\")\n",
    "\n",
    "    counter = 1\n",
    "\n",
    "    for i in range(start, stop, step):\n",
    "        f.write(\n",
    "            '@' + 'Seq' + str(counter) + '\\n' +\n",
    "            dna(i) + '\\n' +\n",
    "            '+' + '\\n' +\n",
    "            '~' * i + '\\n'\n",
    "        )\n",
    "        counter += 1\n",
    "\n",
    "    f.close()\n",
    "\n",
    "    return name\n",
    "\n"
   ]
  },
  {
   "cell_type": "code",
   "execution_count": 5,
   "metadata": {},
   "outputs": [],
   "source": [
    "def time_construction(m, sa_dict, rsa_dict, fastq, o_dict, c_dict, ro_dict, max_edits):\n",
    "    df = pd.DataFrame(range(20, m, int(m/10)), columns=['m'])\n",
    "    times = []\n",
    "\n",
    "    if len(sa_dict) < 0 or len(fastq) < 0:\n",
    "        return \"Problems with either fastq file or the SA\"\n",
    "\n",
    "    for x in sa_dict.items():\n",
    "        rname = x[0]\n",
    "        y = x[1][0]\n",
    "        sa = x[1][1]\n",
    "        rsa = rsa_dict[rname][1]\n",
    "\n",
    "        O = o_dict[rname]\n",
    "        C = c_dict[rname]\n",
    "        RO = ro_dict[rname]\n",
    "        alpha = {a: i for i, a in enumerate(sorted(set(y + '0')))}\n",
    "\n",
    "        for p in fastq.items():\n",
    "            qname = p[0]\n",
    "            substring = p[1][0]\n",
    "            qual = p[1][1]\n",
    "\n",
    "            d = helperpackage.d_table(RO, C, rsa, substring, alpha) \n",
    "            start = time.time()\n",
    "            search_bwd.bw_approx(O, C, substring, d, sa, alpha, max_edits, qname, rname, qual)\n",
    "            stop = time.time()\n",
    "            difference = stop - start\n",
    "            times.append(difference)\n",
    "\n",
    "\n",
    "    df['Time'] = times\n",
    "\n",
    "    df['Time/Expected time'] = df['Time']/df['m']\n",
    "    return df"
   ]
  },
  {
   "cell_type": "code",
   "execution_count": 6,
   "metadata": {},
   "outputs": [],
   "source": [
    "n = 100000\n",
    "m = 1000"
   ]
  },
  {
   "cell_type": "code",
   "execution_count": 7,
   "metadata": {},
   "outputs": [],
   "source": [
    "sa_dict = helperpackage.read_SA(\"preprocessing/n_100000.fa.sa\")\n",
    "rsa_dict = helperpackage.read_SA(\"preprocessing/n_100000.fa.rev.sa\")\n",
    "o_dict = helperpackage.read_o(\"preprocessing/n_100000.fa.o-table\")\n",
    "c_dict = helperpackage.read_c(\"preprocessing/n_100000.fa.c-table\")\n",
    "ro_dict = helperpackage.read_o(\"preprocessing/n_100000.fa.ro-table\")\n",
    "fastq = helperpackage.read_fastq_file(\"test_files/m_1000.fq\")"
   ]
  },
  {
   "cell_type": "code",
   "execution_count": 8,
   "metadata": {
    "collapsed": false,
    "pycharm": {
     "name": "#%%\n"
    }
   },
   "outputs": [
    {
     "name": "stdout",
     "output_type": "stream",
     "text": [
      "Seq1\t0\tSeq1\t32661\t0\t13M1I6M\t*\t0\t0\tGAGTGAAGGTTTAGGTGGGG\t~~~~~~~~~~~~~~~~~~~~\n",
      "Seq1\t0\tSeq1\t32661\t0\t14M1I5M\t*\t0\t0\tGAGTGAAGGTTTAGGTGGGG\t~~~~~~~~~~~~~~~~~~~~\n",
      "Seq1\t0\tSeq1\t90891\t0\t1M1I5M1I8M1I3M\t*\t0\t0\tGAGTGAAGGTTTAGGTGGGG\t~~~~~~~~~~~~~~~~~~~~\n",
      "Seq1\t0\tSeq1\t90891\t0\t2M1I4M1I8M1I3M\t*\t0\t0\tGAGTGAAGGTTTAGGTGGGG\t~~~~~~~~~~~~~~~~~~~~\n",
      "Seq1\t0\tSeq1\t90889\t0\t3M1D4M1I8M1I3M\t*\t0\t0\tGAGTGAAGGTTTAGGTGGGG\t~~~~~~~~~~~~~~~~~~~~\n",
      "Seq1\t0\tSeq1\t90890\t0\t1I2M1D4M1I8M1I3M\t*\t0\t0\tGAGTGAAGGTTTAGGTGGGG\t~~~~~~~~~~~~~~~~~~~~\n",
      "Seq1\t0\tSeq1\t90888\t0\t1M1D2M1D4M1I8M1I3M\t*\t0\t0\tGAGTGAAGGTTTAGGTGGGG\t~~~~~~~~~~~~~~~~~~~~\n",
      "Seq1\t0\tSeq1\t90889\t0\t4M1D3M1I8M1I3M\t*\t0\t0\tGAGTGAAGGTTTAGGTGGGG\t~~~~~~~~~~~~~~~~~~~~\n",
      "Seq1\t0\tSeq1\t90890\t0\t1I3M1D3M1I8M1I3M\t*\t0\t0\tGAGTGAAGGTTTAGGTGGGG\t~~~~~~~~~~~~~~~~~~~~\n",
      "Seq1\t0\tSeq1\t90888\t0\t1M1D3M1D3M1I8M1I3M\t*\t0\t0\tGAGTGAAGGTTTAGGTGGGG\t~~~~~~~~~~~~~~~~~~~~\n",
      "Seq1\t0\tSeq1\t90891\t0\t1M1I6M1I7M1I3M\t*\t0\t0\tGAGTGAAGGTTTAGGTGGGG\t~~~~~~~~~~~~~~~~~~~~\n",
      "Seq1\t0\tSeq1\t90891\t0\t2M1I5M1I7M1I3M\t*\t0\t0\tGAGTGAAGGTTTAGGTGGGG\t~~~~~~~~~~~~~~~~~~~~\n",
      "Seq1\t0\tSeq1\t90889\t0\t3M1D5M1I7M1I3M\t*\t0\t0\tGAGTGAAGGTTTAGGTGGGG\t~~~~~~~~~~~~~~~~~~~~\n",
      "Seq1\t0\tSeq1\t90890\t0\t1I2M1D5M1I7M1I3M\t*\t0\t0\tGAGTGAAGGTTTAGGTGGGG\t~~~~~~~~~~~~~~~~~~~~\n",
      "Seq1\t0\tSeq1\t90888\t0\t1M1D2M1D5M1I7M1I3M\t*\t0\t0\tGAGTGAAGGTTTAGGTGGGG\t~~~~~~~~~~~~~~~~~~~~\n",
      "Seq1\t0\tSeq1\t90889\t0\t4M1D4M1I7M1I3M\t*\t0\t0\tGAGTGAAGGTTTAGGTGGGG\t~~~~~~~~~~~~~~~~~~~~\n",
      "Seq1\t0\tSeq1\t90890\t0\t1I3M1D4M1I7M1I3M\t*\t0\t0\tGAGTGAAGGTTTAGGTGGGG\t~~~~~~~~~~~~~~~~~~~~\n",
      "Seq1\t0\tSeq1\t90888\t0\t1M1D3M1D4M1I7M1I3M\t*\t0\t0\tGAGTGAAGGTTTAGGTGGGG\t~~~~~~~~~~~~~~~~~~~~\n",
      "Seq1\t0\tSeq1\t90891\t0\t1M1I5M1I9M1I2M\t*\t0\t0\tGAGTGAAGGTTTAGGTGGGG\t~~~~~~~~~~~~~~~~~~~~\n",
      "Seq1\t0\tSeq1\t90891\t0\t2M1I4M1I9M1I2M\t*\t0\t0\tGAGTGAAGGTTTAGGTGGGG\t~~~~~~~~~~~~~~~~~~~~\n",
      "Seq1\t0\tSeq1\t90889\t0\t3M1D4M1I9M1I2M\t*\t0\t0\tGAGTGAAGGTTTAGGTGGGG\t~~~~~~~~~~~~~~~~~~~~\n",
      "Seq1\t0\tSeq1\t90890\t0\t1I2M1D4M1I9M1I2M\t*\t0\t0\tGAGTGAAGGTTTAGGTGGGG\t~~~~~~~~~~~~~~~~~~~~\n",
      "Seq1\t0\tSeq1\t90888\t0\t1M1D2M1D4M1I9M1I2M\t*\t0\t0\tGAGTGAAGGTTTAGGTGGGG\t~~~~~~~~~~~~~~~~~~~~\n",
      "Seq1\t0\tSeq1\t90889\t0\t4M1D3M1I9M1I2M\t*\t0\t0\tGAGTGAAGGTTTAGGTGGGG\t~~~~~~~~~~~~~~~~~~~~\n",
      "Seq1\t0\tSeq1\t90890\t0\t1I3M1D3M1I9M1I2M\t*\t0\t0\tGAGTGAAGGTTTAGGTGGGG\t~~~~~~~~~~~~~~~~~~~~\n",
      "Seq1\t0\tSeq1\t90888\t0\t1M1D3M1D3M1I9M1I2M\t*\t0\t0\tGAGTGAAGGTTTAGGTGGGG\t~~~~~~~~~~~~~~~~~~~~\n",
      "Seq1\t0\tSeq1\t90891\t0\t1M1I6M1I8M1I2M\t*\t0\t0\tGAGTGAAGGTTTAGGTGGGG\t~~~~~~~~~~~~~~~~~~~~\n",
      "Seq1\t0\tSeq1\t90891\t0\t2M1I5M1I8M1I2M\t*\t0\t0\tGAGTGAAGGTTTAGGTGGGG\t~~~~~~~~~~~~~~~~~~~~\n",
      "Seq1\t0\tSeq1\t90889\t0\t3M1D5M1I8M1I2M\t*\t0\t0\tGAGTGAAGGTTTAGGTGGGG\t~~~~~~~~~~~~~~~~~~~~\n",
      "Seq1\t0\tSeq1\t90890\t0\t1I2M1D5M1I8M1I2M\t*\t0\t0\tGAGTGAAGGTTTAGGTGGGG\t~~~~~~~~~~~~~~~~~~~~\n",
      "Seq1\t0\tSeq1\t90888\t0\t1M1D2M1D5M1I8M1I2M\t*\t0\t0\tGAGTGAAGGTTTAGGTGGGG\t~~~~~~~~~~~~~~~~~~~~\n",
      "Seq1\t0\tSeq1\t90889\t0\t4M1D4M1I8M1I2M\t*\t0\t0\tGAGTGAAGGTTTAGGTGGGG\t~~~~~~~~~~~~~~~~~~~~\n",
      "Seq1\t0\tSeq1\t90890\t0\t1I3M1D4M1I8M1I2M\t*\t0\t0\tGAGTGAAGGTTTAGGTGGGG\t~~~~~~~~~~~~~~~~~~~~\n",
      "Seq1\t0\tSeq1\t90888\t0\t1M1D3M1D4M1I8M1I2M\t*\t0\t0\tGAGTGAAGGTTTAGGTGGGG\t~~~~~~~~~~~~~~~~~~~~\n",
      "Seq1\t0\tSeq1\t90891\t0\t1M1I5M1I10M1I1M\t*\t0\t0\tGAGTGAAGGTTTAGGTGGGG\t~~~~~~~~~~~~~~~~~~~~\n",
      "Seq1\t0\tSeq1\t90891\t0\t2M1I4M1I10M1I1M\t*\t0\t0\tGAGTGAAGGTTTAGGTGGGG\t~~~~~~~~~~~~~~~~~~~~\n",
      "Seq1\t0\tSeq1\t90889\t0\t3M1D4M1I10M1I1M\t*\t0\t0\tGAGTGAAGGTTTAGGTGGGG\t~~~~~~~~~~~~~~~~~~~~\n",
      "Seq1\t0\tSeq1\t90890\t0\t1I2M1D4M1I10M1I1M\t*\t0\t0\tGAGTGAAGGTTTAGGTGGGG\t~~~~~~~~~~~~~~~~~~~~\n",
      "Seq1\t0\tSeq1\t90888\t0\t1M1D2M1D4M1I10M1I1M\t*\t0\t0\tGAGTGAAGGTTTAGGTGGGG\t~~~~~~~~~~~~~~~~~~~~\n",
      "Seq1\t0\tSeq1\t90889\t0\t4M1D3M1I10M1I1M\t*\t0\t0\tGAGTGAAGGTTTAGGTGGGG\t~~~~~~~~~~~~~~~~~~~~\n",
      "Seq1\t0\tSeq1\t90890\t0\t1I3M1D3M1I10M1I1M\t*\t0\t0\tGAGTGAAGGTTTAGGTGGGG\t~~~~~~~~~~~~~~~~~~~~\n",
      "Seq1\t0\tSeq1\t90888\t0\t1M1D3M1D3M1I10M1I1M\t*\t0\t0\tGAGTGAAGGTTTAGGTGGGG\t~~~~~~~~~~~~~~~~~~~~\n",
      "Seq1\t0\tSeq1\t90891\t0\t1M1I6M1I9M1I1M\t*\t0\t0\tGAGTGAAGGTTTAGGTGGGG\t~~~~~~~~~~~~~~~~~~~~\n",
      "Seq1\t0\tSeq1\t90891\t0\t2M1I5M1I9M1I1M\t*\t0\t0\tGAGTGAAGGTTTAGGTGGGG\t~~~~~~~~~~~~~~~~~~~~\n",
      "Seq1\t0\tSeq1\t90889\t0\t3M1D5M1I9M1I1M\t*\t0\t0\tGAGTGAAGGTTTAGGTGGGG\t~~~~~~~~~~~~~~~~~~~~\n",
      "Seq1\t0\tSeq1\t90890\t0\t1I2M1D5M1I9M1I1M\t*\t0\t0\tGAGTGAAGGTTTAGGTGGGG\t~~~~~~~~~~~~~~~~~~~~\n",
      "Seq1\t0\tSeq1\t90888\t0\t1M1D2M1D5M1I9M1I1M\t*\t0\t0\tGAGTGAAGGTTTAGGTGGGG\t~~~~~~~~~~~~~~~~~~~~\n",
      "Seq1\t0\tSeq1\t90889\t0\t4M1D4M1I9M1I1M\t*\t0\t0\tGAGTGAAGGTTTAGGTGGGG\t~~~~~~~~~~~~~~~~~~~~\n",
      "Seq1\t0\tSeq1\t90890\t0\t1I3M1D4M1I9M1I1M\t*\t0\t0\tGAGTGAAGGTTTAGGTGGGG\t~~~~~~~~~~~~~~~~~~~~\n",
      "Seq1\t0\tSeq1\t90888\t0\t1M1D3M1D4M1I9M1I1M\t*\t0\t0\tGAGTGAAGGTTTAGGTGGGG\t~~~~~~~~~~~~~~~~~~~~\n",
      "Seq1\t0\tSeq1\t90891\t0\t1M1I5M1I12M\t*\t0\t0\tGAGTGAAGGTTTAGGTGGGG\t~~~~~~~~~~~~~~~~~~~~\n",
      "Seq1\t0\tSeq1\t90891\t0\t2M1I4M1I12M\t*\t0\t0\tGAGTGAAGGTTTAGGTGGGG\t~~~~~~~~~~~~~~~~~~~~\n",
      "Seq1\t0\tSeq1\t90889\t0\t3M1D4M1I12M\t*\t0\t0\tGAGTGAAGGTTTAGGTGGGG\t~~~~~~~~~~~~~~~~~~~~\n",
      "Seq1\t0\tSeq1\t90890\t0\t1I2M1D4M1I12M\t*\t0\t0\tGAGTGAAGGTTTAGGTGGGG\t~~~~~~~~~~~~~~~~~~~~\n",
      "Seq1\t0\tSeq1\t90888\t0\t1M1D2M1D4M1I12M\t*\t0\t0\tGAGTGAAGGTTTAGGTGGGG\t~~~~~~~~~~~~~~~~~~~~\n",
      "Seq1\t0\tSeq1\t90889\t0\t4M1D3M1I12M\t*\t0\t0\tGAGTGAAGGTTTAGGTGGGG\t~~~~~~~~~~~~~~~~~~~~\n",
      "Seq1\t0\tSeq1\t90890\t0\t1I3M1D3M1I12M\t*\t0\t0\tGAGTGAAGGTTTAGGTGGGG\t~~~~~~~~~~~~~~~~~~~~\n",
      "Seq1\t0\tSeq1\t90888\t0\t1M1D3M1D3M1I12M\t*\t0\t0\tGAGTGAAGGTTTAGGTGGGG\t~~~~~~~~~~~~~~~~~~~~\n",
      "Seq1\t0\tSeq1\t90891\t0\t1M1I6M1I11M\t*\t0\t0\tGAGTGAAGGTTTAGGTGGGG\t~~~~~~~~~~~~~~~~~~~~\n",
      "Seq1\t0\tSeq1\t90891\t0\t2M1I5M1I11M\t*\t0\t0\tGAGTGAAGGTTTAGGTGGGG\t~~~~~~~~~~~~~~~~~~~~\n",
      "Seq1\t0\tSeq1\t90889\t0\t3M1D5M1I11M\t*\t0\t0\tGAGTGAAGGTTTAGGTGGGG\t~~~~~~~~~~~~~~~~~~~~\n",
      "Seq1\t0\tSeq1\t90890\t0\t1I2M1D5M1I11M\t*\t0\t0\tGAGTGAAGGTTTAGGTGGGG\t~~~~~~~~~~~~~~~~~~~~\n",
      "Seq1\t0\tSeq1\t90888\t0\t1M1D2M1D5M1I11M\t*\t0\t0\tGAGTGAAGGTTTAGGTGGGG\t~~~~~~~~~~~~~~~~~~~~\n",
      "Seq1\t0\tSeq1\t90889\t0\t4M1D4M1I11M\t*\t0\t0\tGAGTGAAGGTTTAGGTGGGG\t~~~~~~~~~~~~~~~~~~~~\n",
      "Seq1\t0\tSeq1\t90890\t0\t1I3M1D4M1I11M\t*\t0\t0\tGAGTGAAGGTTTAGGTGGGG\t~~~~~~~~~~~~~~~~~~~~\n",
      "Seq1\t0\tSeq1\t90888\t0\t1M1D3M1D4M1I11M\t*\t0\t0\tGAGTGAAGGTTTAGGTGGGG\t~~~~~~~~~~~~~~~~~~~~\n",
      "Seq1\t0\tSeq1\t90891\t0\t1M1I5M1I11M1I\t*\t0\t0\tGAGTGAAGGTTTAGGTGGGG\t~~~~~~~~~~~~~~~~~~~~\n",
      "Seq1\t0\tSeq1\t90891\t0\t2M1I4M1I11M1I\t*\t0\t0\tGAGTGAAGGTTTAGGTGGGG\t~~~~~~~~~~~~~~~~~~~~\n",
      "Seq1\t0\tSeq1\t90889\t0\t3M1D4M1I11M1I\t*\t0\t0\tGAGTGAAGGTTTAGGTGGGG\t~~~~~~~~~~~~~~~~~~~~\n",
      "Seq1\t0\tSeq1\t90890\t0\t1I2M1D4M1I11M1I\t*\t0\t0\tGAGTGAAGGTTTAGGTGGGG\t~~~~~~~~~~~~~~~~~~~~\n",
      "Seq1\t0\tSeq1\t90888\t0\t1M1D2M1D4M1I11M1I\t*\t0\t0\tGAGTGAAGGTTTAGGTGGGG\t~~~~~~~~~~~~~~~~~~~~\n",
      "Seq1\t0\tSeq1\t90889\t0\t4M1D3M1I11M1I\t*\t0\t0\tGAGTGAAGGTTTAGGTGGGG\t~~~~~~~~~~~~~~~~~~~~\n",
      "Seq1\t0\tSeq1\t90890\t0\t1I3M1D3M1I11M1I\t*\t0\t0\tGAGTGAAGGTTTAGGTGGGG\t~~~~~~~~~~~~~~~~~~~~\n",
      "Seq1\t0\tSeq1\t90888\t0\t1M1D3M1D3M1I11M1I\t*\t0\t0\tGAGTGAAGGTTTAGGTGGGG\t~~~~~~~~~~~~~~~~~~~~\n",
      "Seq1\t0\tSeq1\t90891\t0\t1M1I6M1I10M1I\t*\t0\t0\tGAGTGAAGGTTTAGGTGGGG\t~~~~~~~~~~~~~~~~~~~~\n",
      "Seq1\t0\tSeq1\t90891\t0\t2M1I5M1I10M1I\t*\t0\t0\tGAGTGAAGGTTTAGGTGGGG\t~~~~~~~~~~~~~~~~~~~~\n",
      "Seq1\t0\tSeq1\t90889\t0\t3M1D5M1I10M1I\t*\t0\t0\tGAGTGAAGGTTTAGGTGGGG\t~~~~~~~~~~~~~~~~~~~~\n",
      "Seq1\t0\tSeq1\t90890\t0\t1I2M1D5M1I10M1I\t*\t0\t0\tGAGTGAAGGTTTAGGTGGGG\t~~~~~~~~~~~~~~~~~~~~\n",
      "Seq1\t0\tSeq1\t90888\t0\t1M1D2M1D5M1I10M1I\t*\t0\t0\tGAGTGAAGGTTTAGGTGGGG\t~~~~~~~~~~~~~~~~~~~~\n",
      "Seq1\t0\tSeq1\t90889\t0\t4M1D4M1I10M1I\t*\t0\t0\tGAGTGAAGGTTTAGGTGGGG\t~~~~~~~~~~~~~~~~~~~~\n",
      "Seq1\t0\tSeq1\t90890\t0\t1I3M1D4M1I10M1I\t*\t0\t0\tGAGTGAAGGTTTAGGTGGGG\t~~~~~~~~~~~~~~~~~~~~\n",
      "Seq1\t0\tSeq1\t90888\t0\t1M1D3M1D4M1I10M1I\t*\t0\t0\tGAGTGAAGGTTTAGGTGGGG\t~~~~~~~~~~~~~~~~~~~~\n"
     ]
    }
   ],
   "source": [
    "df_stc0 = time_construction(m, sa_dict, rsa_dict, fastq, o_dict, c_dict, ro_dict, 0)\n",
    "df_stc1 = time_construction(m, sa_dict, rsa_dict, fastq, o_dict, c_dict, ro_dict, 1)\n",
    "df_stc2 = time_construction(m, sa_dict, rsa_dict, fastq, o_dict, c_dict, ro_dict, 2)\n",
    "df_stc5 = time_construction(m, sa_dict, rsa_dict, fastq, o_dict, c_dict, ro_dict, 5)"
   ]
  },
  {
   "cell_type": "code",
   "execution_count": 14,
   "metadata": {},
   "outputs": [],
   "source": [
    "concat = pd.concat([\n",
    "    df_stc0.assign(edits='d = 0'), \n",
    "    df_stc1.assign(edits='d = 1'), \n",
    "    df_stc2.assign(edits='d = 2')], ignore_index = True)"
   ]
  },
  {
   "cell_type": "code",
   "execution_count": 16,
   "metadata": {},
   "outputs": [
    {
     "data": {
      "image/png": "[encoded data removed]",
      "text/plain": [
       "<Figure size 432x288 with 1 Axes>"
      ]
     },
     "metadata": {
      "needs_background": "light"
     },
     "output_type": "display_data"
    }
   ],
   "source": [
    "h = sns.lineplot(x = 'm', y = 'Time/Expected time', marker = '.',\n",
    "                    hue = 'edits', data = concat)\n",
    "h.set_title('BWT Approximative search')\n",
    "h.figure.savefig('../figures/bwd_m.pdf')"
   ]
  },
  {
   "cell_type": "code",
   "execution_count": null,
   "metadata": {},
   "outputs": [],
   "source": [
    "col_names = [\"Program\", \"Sequence\", \"Read\", \"k\", \"m\", \"Time\"]\n",
    "readmapping_report = pd.read_table(\"readmapping-report.txt\", sep=' ', names=col_names, index_col=False)"
   ]
  },
  {
   "cell_type": "code",
   "execution_count": null,
   "metadata": {},
   "outputs": [
    {
     "data": {
      "image/png": "[encoded data removed]",
      "text/plain": [
       "<Figure size 432x288 with 1 Axes>"
      ]
     },
     "metadata": {
      "needs_background": "light"
     },
     "output_type": "display_data"
    }
   ],
   "source": [
    "h = sns.lineplot(x = 'Read', y = 'Time', marker = '.', hue=\"Program\",\n",
    "                    data = readmapping_report, ci=None, )\n",
    "h.set_title('Readmapping Report')\n",
    "h.tick_params(axis='x', rotation=30)\n",
    "h.figure.savefig('../figures/Readmapping_Report.pdf')"
   ]
  }
 ],
 "metadata": {
  "interpreter": {
   "hash": "6a08fea81b3471c544c48b801e9549cc5d9f1da29e44bed0b5d757934491b2e8"
  },
  "kernelspec": {
   "display_name": "Python 3 (ipykernel)",
   "language": "python",
   "name": "python3"
  },
  "language_info": {
   "codemirror_mode": {
    "name": "ipython",
    "version": 3
   },
   "file_extension": ".py",
   "mimetype": "text/x-python",
   "name": "python",
   "nbconvert_exporter": "python",
   "pygments_lexer": "ipython3",
   "version": "3.9.7"
  },
  "orig_nbformat": 4
 },
 "nbformat": 4,
 "nbformat_minor": 2
}
